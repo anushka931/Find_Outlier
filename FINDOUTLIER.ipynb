{
 "cells": [
  {
   "cell_type": "markdown",
   "id": "e08cce7c-b929-4990-a791-d1efad79ce92",
   "metadata": {},
   "source": [
    "FINDING THE OUTLIER USING Z-SCORE"
   ]
  },
  {
   "cell_type": "code",
   "execution_count": 37,
   "id": "8771b74a-5946-4ff1-82cd-49afc6948626",
   "metadata": {},
   "outputs": [],
   "source": [
    "import numpy as np\n"
   ]
  },
  {
   "cell_type": "code",
   "execution_count": 51,
   "id": "ebff4433-e844-41d7-b2e9-24ccbac96bac",
   "metadata": {},
   "outputs": [],
   "source": [
    "dataset=[11,10, 12, 14,12,15,14,12,15,13,102,12,14,17,19,107,10,13,12,14,12,108,12,11,14,11,13,15,10,15,16,13,14,12,10,15]"
   ]
  },
  {
   "cell_type": "code",
   "execution_count": 3,
   "id": "9273e0e7-0867-4165-aac9-d84190c32567",
   "metadata": {},
   "outputs": [
    {
     "data": {
      "text/plain": [
       "(array([9., 0., 0., 0., 0., 0., 0., 0., 0., 3.]),\n",
       " array([ 10. ,  19.8,  29.6,  39.4,  49.2,  59. ,  68.8,  78.6,  88.4,\n",
       "         98.2, 108. ]),\n",
       " <BarContainer object of 10 artists>)"
      ]
     },
     "execution_count": 3,
     "metadata": {},
     "output_type": "execute_result"
    },
    {
     "data": {
      "image/png": "[encoded data removed]",
      "text/plain": [
       "<Figure size 640x480 with 1 Axes>"
      ]
     },
     "metadata": {},
     "output_type": "display_data"
    }
   ],
   "source": [
    "plt.hist(dataset)"
   ]
  },
  {
   "cell_type": "code",
   "execution_count": 52,
   "id": "e9ff662f-09a7-4bb7-a3e5-5cd34b0b6cba",
   "metadata": {},
   "outputs": [
    {
     "name": "stdout",
     "output_type": "stream",
     "text": [
      "outlier in dataset: [102, 107, 108]\n"
     ]
    }
   ],
   "source": [
    "\n",
    "outlier=[]\n",
    "threshold=3\n",
    "m= np.mean(dataset)\n",
    "sd=np.std(dataset)\n",
    "    \n",
    "for i in dataset:\n",
    "    z_score=(i-m)/sd\n",
    "    if np.abs(z_score)>threshold:\n",
    "        outlier.append(i)\n",
    "            \n",
    "print('outlier in dataset:', outlier)"
   ]
  },
  {
   "cell_type": "code",
   "execution_count": 42,
   "id": "d873d0ad-8932-4949-a7f2-0c1144b63903",
   "metadata": {},
   "outputs": [],
   "source": [
    "import numpy as np \n"
   ]
  },
  {
   "cell_type": "code",
   "execution_count": 43,
   "id": "1dc3b031-76b6-4913-8ce0-9520165489cc",
   "metadata": {},
   "outputs": [
    {
     "name": "stdout",
     "output_type": "stream",
     "text": [
      "mean of the dataset is 2.6666666666666665\n",
      "std. deviation is 3.3598941782277745\n"
     ]
    }
   ],
   "source": [
    "data = [1, 2, 2, 2, 3, 1, 1, 15, 2, 2, 2, 3, 1, 1, 2]\n",
    "mean = np.mean(data)\n",
    "std = np.std(data)\n",
    "print('mean of the dataset is', mean)\n",
    "print('std. deviation is', std)\n"
   ]
  },
  {
   "cell_type": "code",
   "execution_count": 44,
   "id": "7c69b506-151b-4ddc-b994-c21953a15993",
   "metadata": {},
   "outputs": [
    {
     "name": "stdout",
     "output_type": "stream",
     "text": [
      "outlier in dataset is [15]\n"
     ]
    }
   ],
   "source": [
    "threshold = 3\n",
    "outlier = []\n",
    "for i in data:\n",
    "\tz = (i-mean)/std\n",
    "\tif z > threshold:\n",
    "\t\toutlier.append(i)\n",
    "print('outlier in dataset is', outlier)\n"
   ]
  },
  {
   "cell_type": "code",
   "execution_count": 53,
   "id": "e4ccd702-725b-4517-b41d-f852d4801786",
   "metadata": {},
   "outputs": [],
   "source": [
    "dataset= sorted(dataset)"
   ]
  },
  {
   "cell_type": "code",
   "execution_count": 54,
   "id": "ebcf9e2e-a02c-4b39-ab4a-a61bb4f4e9db",
   "metadata": {},
   "outputs": [
    {
     "name": "stdout",
     "output_type": "stream",
     "text": [
      "12.0 15.0\n"
     ]
    }
   ],
   "source": [
    "q1,q3=np.percentile(dataset,[25,75])\n",
    "print(q1,q3)"
   ]
  },
  {
   "cell_type": "code",
   "execution_count": 55,
   "id": "476304e1-e401-46b9-9cd1-603bfd3137a8",
   "metadata": {},
   "outputs": [],
   "source": [
    "iqr=q3-q1"
   ]
  },
  {
   "cell_type": "code",
   "execution_count": 56,
   "id": "6994244f-22da-41fa-a414-04a024dee35b",
   "metadata": {},
   "outputs": [],
   "source": [
    "lowf= q1-1.5*iqr\n",
    "upperf= q3+ 1.5+iqr"
   ]
  },
  {
   "cell_type": "code",
   "execution_count": 57,
   "id": "0685ebb8-c86b-4ff4-92d1-f76cec66d43f",
   "metadata": {},
   "outputs": [
    {
     "data": {
      "text/plain": [
       "7.5"
      ]
     },
     "execution_count": 57,
     "metadata": {},
     "output_type": "execute_result"
    }
   ],
   "source": [
    "lowf\n"
   ]
  },
  {
   "cell_type": "code",
   "execution_count": 58,
   "id": "d1d45fc0-ce61-4572-8a80-7bcc9a48bd2e",
   "metadata": {},
   "outputs": [
    {
     "data": {
      "text/plain": [
       "19.5"
      ]
     },
     "execution_count": 58,
     "metadata": {},
     "output_type": "execute_result"
    }
   ],
   "source": [
    "upperf"
   ]
  },
  {
   "cell_type": "code",
   "execution_count": 60,
   "id": "202add2c-9f59-4568-8bb3-ec0b0fe33a18",
   "metadata": {},
   "outputs": [
    {
     "name": "stdout",
     "output_type": "stream",
     "text": [
      "[102, 107, 108]\n"
     ]
    }
   ],
   "source": [
    "outlier=[]\n",
    "for i in dataset:\n",
    "    if(i<lowf or i>upperf):\n",
    "        outlier.append(i)\n",
    "\n",
    "print(outlier)"
   ]
  },
  {
   "cell_type": "code",
   "execution_count": 61,
   "id": "860ef88d-6d7c-481e-82a7-4d80759f4a5f",
   "metadata": {},
   "outputs": [],
   "source": [
    "import seaborn as s"
   ]
  },
  {
   "cell_type": "code",
   "execution_count": 62,
   "id": "ba4fb641-af01-4fd4-a5d4-80d3aef3945f",
   "metadata": {},
   "outputs": [
    {
     "data": {
      "text/plain": [
       "<Axes: >"
      ]
     },
     "execution_count": 62,
     "metadata": {},
     "output_type": "execute_result"
    },
    {
     "data": {
      "image/png": "[encoded data removed]",
      "text/plain": [
       "<Figure size 640x480 with 1 Axes>"
      ]
     },
     "metadata": {},
     "output_type": "display_data"
    }
   ],
   "source": [
    "s.boxplot(dataset)"
   ]
  },
  {
   "cell_type": "code",
   "execution_count": null,
   "id": "7b4ea405-5e2b-43c7-939d-7de5e6f8cce1",
   "metadata": {},
   "outputs": [],
   "source": []
  }
 ],
 "metadata": {
  "kernelspec": {
   "display_name": "Python 3 (ipykernel)",
   "language": "python",
   "name": "python3"
  },
  "language_info": {
   "codemirror_mode": {
    "name": "ipython",
    "version": 3
   },
   "file_extension": ".py",
   "mimetype": "text/x-python",
   "name": "python",
   "nbconvert_exporter": "python",
   "pygments_lexer": "ipython3",
   "version": "3.11.7"
  }
 },
 "nbformat": 4,
 "nbformat_minor": 5
}
